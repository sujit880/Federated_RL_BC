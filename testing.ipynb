{
 "cells": [
  {
   "cell_type": "code",
   "execution_count": null,
   "metadata": {},
   "outputs": [],
   "source": [
    "from client import modman\n",
    "log_path = './client/logs/'\n",
    "log_file = 'client_logs.csv'\n",
    "log_testing = 'testing_logs.csv'\n",
    "\n",
    "path1 = modman.increment_path(path=log_path+log_file,exist_ok=False,mkdir=True)"
   ]
  },
  {
   "cell_type": "code",
   "execution_count": null,
   "metadata": {},
   "outputs": [],
   "source": []
  }
 ],
 "metadata": {
  "interpreter": {
   "hash": "cd7c1189f832c9b2c31517b119ca81ba4390342d005de12b95c845da0d4a9088"
  },
  "kernelspec": {
   "display_name": "Python 3.6.10 64-bit ('env3.6': conda)",
   "language": "python",
   "name": "python3"
  },
  "language_info": {
   "name": "python",
   "version": "3.6.10"
  },
  "orig_nbformat": 4
 },
 "nbformat": 4,
 "nbformat_minor": 2
}
