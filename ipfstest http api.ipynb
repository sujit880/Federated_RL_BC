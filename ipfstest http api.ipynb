{
 "cells": [
  {
   "cell_type": "code",
   "execution_count": 1,
   "metadata": {},
   "outputs": [],
   "source": [
    "import ipfshttpclient as ipfs"
   ]
  },
  {
   "cell_type": "code",
   "execution_count": 4,
   "metadata": {},
   "outputs": [],
   "source": [
    "client = ipfs.connect()"
   ]
  },
  {
   "cell_type": "code",
   "execution_count": 5,
   "metadata": {},
   "outputs": [
    {
     "name": "stdout",
     "output_type": "stream",
     "text": [
      "{'id': 'hello', 'message': 'Hello IPFS'}\n"
     ]
    }
   ],
   "source": [
    "import json\n",
    "body = {'data':{\n",
    "        'id' : \"hello sujit\",\n",
    "        'message': \"Hello IPFS\"\n",
    "    }\n",
    "} \n",
    "# json_object = json.dumps(body, indent=4)\n",
    "print(body[\"data\"])\n",
    "with open(body[\"data\"][\"id\"]+\".json\", \"w\") as outfile:\n",
    "    json.dump(body, outfile)"
   ]
  },
  {
   "cell_type": "code",
   "execution_count": 6,
   "metadata": {},
   "outputs": [],
   "source": [
    "hash = client.add(body[\"data\"][\"id\"]+\".json\")"
   ]
  },
  {
   "cell_type": "code",
   "execution_count": 7,
   "metadata": {},
   "outputs": [
    {
     "name": "stdout",
     "output_type": "stream",
     "text": [
      "<ipfshttpclient.client.base.ResponseBase: {'Name': 'hello.json', 'Hash': 'QmPQZuRKeVERLiRZs7KaJ5pa13Ccj1WTcjoZQ1yW4bSbXq', 'Size': '58'}>\n"
     ]
    }
   ],
   "source": [
    "print(hash)"
   ]
  },
  {
   "cell_type": "code",
   "execution_count": 8,
   "metadata": {},
   "outputs": [
    {
     "name": "stdout",
     "output_type": "stream",
     "text": [
      "QmPQZuRKeVERLiRZs7KaJ5pa13Ccj1WTcjoZQ1yW4bSbXq\n"
     ]
    }
   ],
   "source": [
    "print(hash[\"Hash\"])"
   ]
  },
  {
   "cell_type": "code",
   "execution_count": 11,
   "metadata": {},
   "outputs": [],
   "source": [
    "value = client.cat(hash[\"Hash\"])"
   ]
  },
  {
   "cell_type": "code",
   "execution_count": 12,
   "metadata": {},
   "outputs": [
    {
     "data": {
      "text/plain": [
       "b'{\"data\": {\"id\": \"hello\", \"message\": \"Hello IPFS\"}}'"
      ]
     },
     "execution_count": 12,
     "metadata": {},
     "output_type": "execute_result"
    }
   ],
   "source": [
    "value"
   ]
  }
 ],
 "metadata": {
  "kernelspec": {
   "display_name": "Python 3.8.8 ('base')",
   "language": "python",
   "name": "python3"
  },
  "language_info": {
   "codemirror_mode": {
    "name": "ipython",
    "version": 3
   },
   "file_extension": ".py",
   "mimetype": "text/x-python",
   "name": "python",
   "nbconvert_exporter": "python",
   "pygments_lexer": "ipython3",
   "version": "3.8.8"
  },
  "orig_nbformat": 4,
  "vscode": {
   "interpreter": {
    "hash": "15bc4865aa63afea73dceac15c24b226eff619ab9f21ee1e4bef87b8d8e3ceea"
   }
  }
 },
 "nbformat": 4,
 "nbformat_minor": 2
}
